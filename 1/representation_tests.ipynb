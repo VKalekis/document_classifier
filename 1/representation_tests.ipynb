{
 "cells": [
  {
   "cell_type": "markdown",
   "id": "0578d98b",
   "metadata": {},
   "source": [
    "\n",
    "    Generates different representations from two example preprocessed sentences.\n"
   ]
  },
  {
   "cell_type": "code",
   "execution_count": 2,
   "id": "d9cfd396",
   "metadata": {},
   "outputs": [
    {
     "name": "stderr",
     "output_type": "stream",
     "text": [
      "2022-02-10 17:34:10.036026: W tensorflow/stream_executor/platform/default/dso_loader.cc:64] Could not load dynamic library 'libcudart.so.11.0'; dlerror: libcudart.so.11.0: cannot open shared object file: No such file or directory\n",
      "2022-02-10 17:34:10.036118: I tensorflow/stream_executor/cuda/cudart_stub.cc:29] Ignore above cudart dlerror if you do not have a GPU set up on your machine.\n"
     ]
    }
   ],
   "source": [
    "from sklearn.feature_extraction.text import CountVectorizer, TfidfVectorizer\n",
    "from gensim.models import FastText\n",
    "from tensorflow import keras\n"
   ]
  },
  {
   "cell_type": "code",
   "execution_count": 3,
   "id": "ec9b24ee",
   "metadata": {},
   "outputs": [],
   "source": [
    "docs = ['like hike like tenni difficult',\n",
    "        'like tenni appli coach difficult']"
   ]
  },
  {
   "cell_type": "code",
   "execution_count": 4,
   "id": "87554968",
   "metadata": {},
   "outputs": [
    {
     "name": "stdout",
     "output_type": "stream",
     "text": [
      "CV-------------------\n",
      "[[0 0 1 1 2 1]\n",
      " [1 1 1 0 1 1]]\n",
      "{'like': 4, 'hike': 3, 'tenni': 5, 'difficult': 2, 'appli': 0, 'coach': 1}\n"
     ]
    }
   ],
   "source": [
    "# CountVectorizer\n",
    "vectorizer = CountVectorizer()\n",
    "\n",
    "docs_cv = vectorizer.fit_transform(docs).toarray()\n",
    "\n",
    "print(\"CV-------------------\")\n",
    "print(docs_cv)\n",
    "print(vectorizer.vocabulary_)"
   ]
  },
  {
   "cell_type": "code",
   "execution_count": 5,
   "id": "d860aaeb",
   "metadata": {},
   "outputs": [
    {
     "name": "stdout",
     "output_type": "stream",
     "text": [
      "TFIDF-------------------\n",
      "[[0.         0.         0.35409974 0.49767483 0.70819948 0.35409974]\n",
      " [0.53309782 0.53309782 0.37930349 0.         0.37930349 0.37930349]]\n"
     ]
    }
   ],
   "source": [
    "# TfidfVectorizer\n",
    "vectorizer = TfidfVectorizer()\n",
    "\n",
    "docs_tfidf = vectorizer.fit_transform(docs).toarray()\n",
    "\n",
    "print(\"TFIDF-------------------\")\n",
    "print(docs_tfidf)"
   ]
  },
  {
   "cell_type": "code",
   "execution_count": 6,
   "id": "2564335c",
   "metadata": {},
   "outputs": [
    {
     "name": "stdout",
     "output_type": "stream",
     "text": [
      "Vocabulary-------------------\n",
      "[[1, 4, 1, 2, 3], [1, 2, 5, 6, 3]]\n",
      "{'like': 1, 'tenni': 2, 'difficult': 3, 'hike': 4, 'appli': 5, 'coach': 6}\n"
     ]
    }
   ],
   "source": [
    "# Vocabulary indexing\n",
    "tokenizer = keras.preprocessing.text.Tokenizer()\n",
    "tokenizer.fit_on_texts(docs)\n",
    "\n",
    "docs_vocab = tokenizer.texts_to_sequences(docs)\n",
    "\n",
    "\n",
    "print(\"Vocabulary-------------------\")\n",
    "print(docs_vocab)\n",
    "print(tokenizer.word_index)"
   ]
  },
  {
   "cell_type": "code",
   "execution_count": 7,
   "id": "5d5a1ac9",
   "metadata": {},
   "outputs": [
    {
     "name": "stdout",
     "output_type": "stream",
     "text": [
      "Embedding-------------------\n",
      "like [ 0.0173892  -0.00843937  0.01874088  0.05442818]\n",
      "hike [-0.01157398  0.06082813  0.04425463 -0.01261672]\n",
      "like [ 0.0173892  -0.00843937  0.01874088  0.05442818]\n",
      "tenni [-0.03205526  0.02690303  0.03810911 -0.0934945 ]\n",
      "difficult [ 0.01091925 -0.00716561 -0.04868105  0.01052902]\n",
      "like [ 0.0173892  -0.00843937  0.01874088  0.05442818]\n",
      "tenni [-0.03205526  0.02690303  0.03810911 -0.0934945 ]\n",
      "appli [ 0.00176861  0.00675145 -0.06920315 -0.07705358]\n",
      "coach [-0.01898945 -0.05597351 -0.00408707 -0.02093293]\n",
      "difficult [ 0.01091925 -0.00716561 -0.04868105  0.01052902]\n"
     ]
    }
   ],
   "source": [
    "# Embedding matrix\n",
    "splitted = [x.split(' ') for x in docs]\n",
    "\n",
    "model2 = FastText(vector_size=4, window=5, min_count=1, sentences=splitted, epochs=10)\n",
    "\n",
    "\n",
    "print(\"Embedding-------------------\")\n",
    "for x in docs:\n",
    "   for s in x.split(' '):           \n",
    "       print(f\"{s} {model2.wv[s]}\")"
   ]
  }
 ],
 "metadata": {
  "kernelspec": {
   "display_name": "Python 3 (ipykernel)",
   "language": "python",
   "name": "python3"
  },
  "language_info": {
   "codemirror_mode": {
    "name": "ipython",
    "version": 3
   },
   "file_extension": ".py",
   "mimetype": "text/x-python",
   "name": "python",
   "nbconvert_exporter": "python",
   "pygments_lexer": "ipython3",
   "version": "3.9.5"
  }
 },
 "nbformat": 4,
 "nbformat_minor": 5
}
