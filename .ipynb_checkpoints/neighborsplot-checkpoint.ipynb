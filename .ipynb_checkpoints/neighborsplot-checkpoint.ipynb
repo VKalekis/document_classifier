{
 "cells": [
  {
   "cell_type": "code",
   "execution_count": 1,
   "id": "f6e0dd99",
   "metadata": {},
   "outputs": [],
   "source": [
    "import pandas as pd\n",
    "import numpy as np\n",
    "import matplotlib.pyplot as plt\n",
    "from scipy.stats import sem"
   ]
  },
  {
   "cell_type": "code",
   "execution_count": 3,
   "id": "9b4adb63",
   "metadata": {},
   "outputs": [
    {
     "data": {
      "text/html": [
       "<div>\n",
       "<style scoped>\n",
       "    .dataframe tbody tr th:only-of-type {\n",
       "        vertical-align: middle;\n",
       "    }\n",
       "\n",
       "    .dataframe tbody tr th {\n",
       "        vertical-align: top;\n",
       "    }\n",
       "\n",
       "    .dataframe thead th {\n",
       "        text-align: right;\n",
       "    }\n",
       "</style>\n",
       "<table border=\"1\" class=\"dataframe\">\n",
       "  <thead>\n",
       "    <tr style=\"text-align: right;\">\n",
       "      <th></th>\n",
       "      <th>neighbors</th>\n",
       "      <th>accs</th>\n",
       "      <th>macrof1s</th>\n",
       "      <th>times</th>\n",
       "    </tr>\n",
       "  </thead>\n",
       "  <tbody>\n",
       "    <tr>\n",
       "      <th>0</th>\n",
       "      <td>1</td>\n",
       "      <td>0.9575</td>\n",
       "      <td>0.952986</td>\n",
       "      <td>26.769500</td>\n",
       "    </tr>\n",
       "    <tr>\n",
       "      <th>1</th>\n",
       "      <td>3</td>\n",
       "      <td>0.9600</td>\n",
       "      <td>0.955540</td>\n",
       "      <td>26.787777</td>\n",
       "    </tr>\n",
       "    <tr>\n",
       "      <th>2</th>\n",
       "      <td>5</td>\n",
       "      <td>0.9581</td>\n",
       "      <td>0.953315</td>\n",
       "      <td>26.809308</td>\n",
       "    </tr>\n",
       "    <tr>\n",
       "      <th>3</th>\n",
       "      <td>7</td>\n",
       "      <td>0.9578</td>\n",
       "      <td>0.953133</td>\n",
       "      <td>26.803132</td>\n",
       "    </tr>\n",
       "    <tr>\n",
       "      <th>4</th>\n",
       "      <td>9</td>\n",
       "      <td>0.9570</td>\n",
       "      <td>0.952222</td>\n",
       "      <td>26.810926</td>\n",
       "    </tr>\n",
       "    <tr>\n",
       "      <th>5</th>\n",
       "      <td>15</td>\n",
       "      <td>0.9497</td>\n",
       "      <td>0.944279</td>\n",
       "      <td>26.808992</td>\n",
       "    </tr>\n",
       "    <tr>\n",
       "      <th>6</th>\n",
       "      <td>200</td>\n",
       "      <td>0.9098</td>\n",
       "      <td>0.898611</td>\n",
       "      <td>26.811217</td>\n",
       "    </tr>\n",
       "    <tr>\n",
       "      <th>7</th>\n",
       "      <td>1</td>\n",
       "      <td>0.9562</td>\n",
       "      <td>0.950888</td>\n",
       "      <td>26.772764</td>\n",
       "    </tr>\n",
       "    <tr>\n",
       "      <th>8</th>\n",
       "      <td>3</td>\n",
       "      <td>0.9582</td>\n",
       "      <td>0.953613</td>\n",
       "      <td>26.773310</td>\n",
       "    </tr>\n",
       "    <tr>\n",
       "      <th>9</th>\n",
       "      <td>5</td>\n",
       "      <td>0.9568</td>\n",
       "      <td>0.952250</td>\n",
       "      <td>26.803775</td>\n",
       "    </tr>\n",
       "    <tr>\n",
       "      <th>10</th>\n",
       "      <td>7</td>\n",
       "      <td>0.9560</td>\n",
       "      <td>0.951805</td>\n",
       "      <td>26.812291</td>\n",
       "    </tr>\n",
       "    <tr>\n",
       "      <th>11</th>\n",
       "      <td>9</td>\n",
       "      <td>0.9552</td>\n",
       "      <td>0.950285</td>\n",
       "      <td>26.803377</td>\n",
       "    </tr>\n",
       "    <tr>\n",
       "      <th>12</th>\n",
       "      <td>15</td>\n",
       "      <td>0.9499</td>\n",
       "      <td>0.944066</td>\n",
       "      <td>26.804740</td>\n",
       "    </tr>\n",
       "    <tr>\n",
       "      <th>13</th>\n",
       "      <td>200</td>\n",
       "      <td>0.9111</td>\n",
       "      <td>0.900660</td>\n",
       "      <td>26.807710</td>\n",
       "    </tr>\n",
       "    <tr>\n",
       "      <th>14</th>\n",
       "      <td>1</td>\n",
       "      <td>0.9571</td>\n",
       "      <td>0.953057</td>\n",
       "      <td>26.773174</td>\n",
       "    </tr>\n",
       "    <tr>\n",
       "      <th>15</th>\n",
       "      <td>3</td>\n",
       "      <td>0.9599</td>\n",
       "      <td>0.957294</td>\n",
       "      <td>26.779684</td>\n",
       "    </tr>\n",
       "    <tr>\n",
       "      <th>16</th>\n",
       "      <td>5</td>\n",
       "      <td>0.9581</td>\n",
       "      <td>0.954414</td>\n",
       "      <td>26.804382</td>\n",
       "    </tr>\n",
       "    <tr>\n",
       "      <th>17</th>\n",
       "      <td>7</td>\n",
       "      <td>0.9595</td>\n",
       "      <td>0.956094</td>\n",
       "      <td>26.807257</td>\n",
       "    </tr>\n",
       "    <tr>\n",
       "      <th>18</th>\n",
       "      <td>9</td>\n",
       "      <td>0.9580</td>\n",
       "      <td>0.953704</td>\n",
       "      <td>26.809272</td>\n",
       "    </tr>\n",
       "    <tr>\n",
       "      <th>19</th>\n",
       "      <td>15</td>\n",
       "      <td>0.9548</td>\n",
       "      <td>0.948933</td>\n",
       "      <td>26.804912</td>\n",
       "    </tr>\n",
       "    <tr>\n",
       "      <th>20</th>\n",
       "      <td>200</td>\n",
       "      <td>0.9087</td>\n",
       "      <td>0.898027</td>\n",
       "      <td>26.801292</td>\n",
       "    </tr>\n",
       "    <tr>\n",
       "      <th>21</th>\n",
       "      <td>1</td>\n",
       "      <td>0.9573</td>\n",
       "      <td>0.952519</td>\n",
       "      <td>26.769837</td>\n",
       "    </tr>\n",
       "    <tr>\n",
       "      <th>22</th>\n",
       "      <td>3</td>\n",
       "      <td>0.9604</td>\n",
       "      <td>0.957242</td>\n",
       "      <td>26.784198</td>\n",
       "    </tr>\n",
       "    <tr>\n",
       "      <th>23</th>\n",
       "      <td>5</td>\n",
       "      <td>0.9578</td>\n",
       "      <td>0.954041</td>\n",
       "      <td>26.809830</td>\n",
       "    </tr>\n",
       "    <tr>\n",
       "      <th>24</th>\n",
       "      <td>7</td>\n",
       "      <td>0.9564</td>\n",
       "      <td>0.951747</td>\n",
       "      <td>26.804313</td>\n",
       "    </tr>\n",
       "    <tr>\n",
       "      <th>25</th>\n",
       "      <td>9</td>\n",
       "      <td>0.9540</td>\n",
       "      <td>0.949431</td>\n",
       "      <td>26.806198</td>\n",
       "    </tr>\n",
       "    <tr>\n",
       "      <th>26</th>\n",
       "      <td>15</td>\n",
       "      <td>0.9503</td>\n",
       "      <td>0.944803</td>\n",
       "      <td>26.811446</td>\n",
       "    </tr>\n",
       "    <tr>\n",
       "      <th>27</th>\n",
       "      <td>200</td>\n",
       "      <td>0.9091</td>\n",
       "      <td>0.900090</td>\n",
       "      <td>26.809545</td>\n",
       "    </tr>\n",
       "    <tr>\n",
       "      <th>28</th>\n",
       "      <td>1</td>\n",
       "      <td>0.9584</td>\n",
       "      <td>0.954706</td>\n",
       "      <td>26.769468</td>\n",
       "    </tr>\n",
       "    <tr>\n",
       "      <th>29</th>\n",
       "      <td>3</td>\n",
       "      <td>0.9605</td>\n",
       "      <td>0.956392</td>\n",
       "      <td>26.784844</td>\n",
       "    </tr>\n",
       "    <tr>\n",
       "      <th>30</th>\n",
       "      <td>5</td>\n",
       "      <td>0.9592</td>\n",
       "      <td>0.954454</td>\n",
       "      <td>26.803094</td>\n",
       "    </tr>\n",
       "    <tr>\n",
       "      <th>31</th>\n",
       "      <td>7</td>\n",
       "      <td>0.9599</td>\n",
       "      <td>0.955370</td>\n",
       "      <td>26.802864</td>\n",
       "    </tr>\n",
       "    <tr>\n",
       "      <th>32</th>\n",
       "      <td>9</td>\n",
       "      <td>0.9604</td>\n",
       "      <td>0.955209</td>\n",
       "      <td>26.804958</td>\n",
       "    </tr>\n",
       "    <tr>\n",
       "      <th>33</th>\n",
       "      <td>15</td>\n",
       "      <td>0.9548</td>\n",
       "      <td>0.949051</td>\n",
       "      <td>26.806113</td>\n",
       "    </tr>\n",
       "    <tr>\n",
       "      <th>34</th>\n",
       "      <td>200</td>\n",
       "      <td>0.9158</td>\n",
       "      <td>0.907602</td>\n",
       "      <td>26.806981</td>\n",
       "    </tr>\n",
       "  </tbody>\n",
       "</table>\n",
       "</div>"
      ],
      "text/plain": [
       "    neighbors    accs  macrof1s      times\n",
       "0           1  0.9575  0.952986  26.769500\n",
       "1           3  0.9600  0.955540  26.787777\n",
       "2           5  0.9581  0.953315  26.809308\n",
       "3           7  0.9578  0.953133  26.803132\n",
       "4           9  0.9570  0.952222  26.810926\n",
       "5          15  0.9497  0.944279  26.808992\n",
       "6         200  0.9098  0.898611  26.811217\n",
       "7           1  0.9562  0.950888  26.772764\n",
       "8           3  0.9582  0.953613  26.773310\n",
       "9           5  0.9568  0.952250  26.803775\n",
       "10          7  0.9560  0.951805  26.812291\n",
       "11          9  0.9552  0.950285  26.803377\n",
       "12         15  0.9499  0.944066  26.804740\n",
       "13        200  0.9111  0.900660  26.807710\n",
       "14          1  0.9571  0.953057  26.773174\n",
       "15          3  0.9599  0.957294  26.779684\n",
       "16          5  0.9581  0.954414  26.804382\n",
       "17          7  0.9595  0.956094  26.807257\n",
       "18          9  0.9580  0.953704  26.809272\n",
       "19         15  0.9548  0.948933  26.804912\n",
       "20        200  0.9087  0.898027  26.801292\n",
       "21          1  0.9573  0.952519  26.769837\n",
       "22          3  0.9604  0.957242  26.784198\n",
       "23          5  0.9578  0.954041  26.809830\n",
       "24          7  0.9564  0.951747  26.804313\n",
       "25          9  0.9540  0.949431  26.806198\n",
       "26         15  0.9503  0.944803  26.811446\n",
       "27        200  0.9091  0.900090  26.809545\n",
       "28          1  0.9584  0.954706  26.769468\n",
       "29          3  0.9605  0.956392  26.784844\n",
       "30          5  0.9592  0.954454  26.803094\n",
       "31          7  0.9599  0.955370  26.802864\n",
       "32          9  0.9604  0.955209  26.804958\n",
       "33         15  0.9548  0.949051  26.806113\n",
       "34        200  0.9158  0.907602  26.806981"
      ]
     },
     "execution_count": 3,
     "metadata": {},
     "output_type": "execute_result"
    }
   ],
   "source": [
    "df = pd.read_csv('./resultsneighbors.csv')\n",
    "df"
   ]
  },
  {
   "cell_type": "code",
   "execution_count": 4,
   "id": "3d53d6c8",
   "metadata": {},
   "outputs": [],
   "source": [
    "neighbors = np.array(df['neighbors'])\n",
    "accs = np.array(df['accs'])\n",
    "macrof1s = np.array(df['macrof1s'])\n",
    "times = np.array(df['times'])"
   ]
  },
  {
   "cell_type": "code",
   "execution_count": 5,
   "id": "5de66932",
   "metadata": {},
   "outputs": [
    {
     "data": {
      "text/plain": [
       "(35,)"
      ]
     },
     "execution_count": 5,
     "metadata": {},
     "output_type": "execute_result"
    }
   ],
   "source": [
    "accs.shape"
   ]
  },
  {
   "cell_type": "code",
   "execution_count": 6,
   "id": "8be10d0f",
   "metadata": {},
   "outputs": [
    {
     "data": {
      "text/plain": [
       "(5, 7)"
      ]
     },
     "execution_count": 6,
     "metadata": {},
     "output_type": "execute_result"
    }
   ],
   "source": [
    "reshaped=np.reshape(accs, (-1,7))\n",
    "reshaped.shape"
   ]
  },
  {
   "cell_type": "code",
   "execution_count": 7,
   "id": "617a86f5",
   "metadata": {},
   "outputs": [
    {
     "data": {
      "text/plain": [
       "array([[0.9575, 0.96  , 0.9581, 0.9578, 0.957 , 0.9497, 0.9098],\n",
       "       [0.9562, 0.9582, 0.9568, 0.956 , 0.9552, 0.9499, 0.9111],\n",
       "       [0.9571, 0.9599, 0.9581, 0.9595, 0.958 , 0.9548, 0.9087],\n",
       "       [0.9573, 0.9604, 0.9578, 0.9564, 0.954 , 0.9503, 0.9091],\n",
       "       [0.9584, 0.9605, 0.9592, 0.9599, 0.9604, 0.9548, 0.9158]])"
      ]
     },
     "execution_count": 7,
     "metadata": {},
     "output_type": "execute_result"
    }
   ],
   "source": [
    "reshaped"
   ]
  },
  {
   "cell_type": "code",
   "execution_count": 8,
   "id": "df051db0",
   "metadata": {},
   "outputs": [
    {
     "data": {
      "text/plain": [
       "(7,)"
      ]
     },
     "execution_count": 8,
     "metadata": {},
     "output_type": "execute_result"
    }
   ],
   "source": [
    "means = np.mean(reshaped, axis=0)\n",
    "means.shape"
   ]
  },
  {
   "cell_type": "code",
   "execution_count": 19,
   "id": "a65b2903",
   "metadata": {},
   "outputs": [
    {
     "data": {
      "text/plain": [
       "array([0.9573 , 0.9598 , 0.958  , 0.95792, 0.95692, 0.9519 , 0.9109 ])"
      ]
     },
     "execution_count": 19,
     "metadata": {},
     "output_type": "execute_result"
    }
   ],
   "source": [
    "means"
   ]
  },
  {
   "cell_type": "code",
   "execution_count": 9,
   "id": "8a5adea4",
   "metadata": {},
   "outputs": [
    {
     "data": {
      "text/plain": [
       "3"
      ]
     },
     "execution_count": 9,
     "metadata": {},
     "output_type": "execute_result"
    }
   ],
   "source": [
    "neighbors[0:7][np.argmax(means)]"
   ]
  },
  {
   "cell_type": "code",
   "execution_count": 11,
   "id": "f0daeb9e",
   "metadata": {},
   "outputs": [
    {
     "data": {
      "text/plain": [
       "array([0.57735027, 0.57735027])"
      ]
     },
     "execution_count": 11,
     "metadata": {},
     "output_type": "execute_result"
    }
   ],
   "source": [
    "sem([[1,2,3],[2,3,4]],axis=1)"
   ]
  },
  {
   "cell_type": "code",
   "execution_count": 24,
   "id": "efaabdd0",
   "metadata": {},
   "outputs": [
    {
     "data": {
      "text/plain": [
       "[<matplotlib.lines.Line2D at 0x7f47ff93d520>]"
      ]
     },
     "execution_count": 24,
     "metadata": {},
     "output_type": "execute_result"
    },
    {
     "data": {
      "image/png": "[encoded data removed]",
      "text/plain": [
       "<Figure size 720x720 with 1 Axes>"
      ]
     },
     "metadata": {
      "needs_background": "light"
     },
     "output_type": "display_data"
    }
   ],
   "source": [
    "fig = plt.figure(figsize=(10,10))\n",
    "plt.plot(neighbors[0:7], means)"
   ]
  }
 ],
 "metadata": {
  "kernelspec": {
   "display_name": "Python 3 (ipykernel)",
   "language": "python",
   "name": "python3"
  },
  "language_info": {
   "codemirror_mode": {
    "name": "ipython",
    "version": 3
   },
   "file_extension": ".py",
   "mimetype": "text/x-python",
   "name": "python",
   "nbconvert_exporter": "python",
   "pygments_lexer": "ipython3",
   "version": "3.9.5"
  }
 },
 "nbformat": 4,
 "nbformat_minor": 5
}
